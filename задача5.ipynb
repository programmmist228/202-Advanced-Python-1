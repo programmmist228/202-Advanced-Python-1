{
 "cells": [
  {
   "cell_type": "code",
   "execution_count": null,
   "id": "690234ca",
   "metadata": {},
   "outputs": [],
   "source": []
  },
  {
   "cell_type": "markdown",
   "id": "f3f0b101",
   "metadata": {},
   "source": [
    "# Лабораторная работа №107\n",
    "\n",
    "# ОПРЕДЕЛЕНИЕ КОЭФФИЦИЕНТА СИЛЫ СУХОГО ТРЕНИЯ\n",
    "\n",
    "## Обработка результатов\n",
    "\n",
    "введем параметры брусков"
   ]
  },
  {
   "cell_type": "code",
   "execution_count": 1,
   "id": "d485cb33",
   "metadata": {},
   "outputs": [],
   "source": [
    "md = 33.67 #гр\n",
    "mt = 20.79 #гр\n",
    "g = 9.38 #м/с^2"
   ]
  },
  {
   "cell_type": "markdown",
   "id": "c82029e9",
   "metadata": {},
   "source": [
    "## Упражнение 1. Определение коэффициента трения из значения максимальной силы трения покоя.\n",
    "\n",
    "![kartinka](107\\1077.png)\n",
    "\n",
    "\n",
    "$$ \\mu = Acp / b $$\n",
    "\n",
    "где Acp - среднее значение катета 1; \n",
    "b - катет 2\n",
    "\n",
    "НАШИ ДАННЫЕ:"
   ]
  },
  {
   "cell_type": "code",
   "execution_count": 2,
   "id": "99d41962",
   "metadata": {},
   "outputs": [],
   "source": [
    "import numpy as np\n",
    "def read(filename):\n",
    "    f = open(filename, \"r\")\n",
    "    res = np.empty(0)\n",
    "    for line in f:\n",
    "        res = np.append(res, float(line))\n",
    "    f.close()\n",
    "    return res\n",
    "b = 0.2 #м\n",
    "a = read(\"ex1_a.txt\")\n"
   ]
  },
  {
   "cell_type": "markdown",
   "id": "f67b3094",
   "metadata": {},
   "source": [
    "Посчитаем Aср по формуле:\n",
    "$$ Acp  = {\\sum_1^n a \\over n} $$\n",
    "\n",
    "где n = 3"
   ]
  },
  {
   "cell_type": "code",
   "execution_count": 3,
   "id": "c41b1555",
   "metadata": {},
   "outputs": [],
   "source": [
    "def average(arr):\n",
    "    return(sum(arr)/len(arr))\n",
    "\n",
    "a1 = average(a[0:2]) \n",
    "a2 = average(a[3:5])\n",
    "a3 = average(a[6:8])\n",
    "a4 = average(a[9:11])\n",
    "#средние значения\n",
    "A = [a1, a2, a3, a4]"
   ]
  },
  {
   "cell_type": "markdown",
   "id": "1646d395",
   "metadata": {},
   "source": [
    "Найдем коэфициенты трения по формуле:\n",
    "$$ \\mu = Acp / b $$"
   ]
  },
  {
   "cell_type": "code",
   "execution_count": 4,
   "id": "ada205e8",
   "metadata": {},
   "outputs": [],
   "source": [
    "u1 = a1/b\n",
    "u2 = a2/b\n",
    "u3 = a3/b\n",
    "u4 = a4/b\n",
    "u = [u1, u2, u3, u4]"
   ]
  },
  {
   "cell_type": "markdown",
   "id": "3a9467ed",
   "metadata": {},
   "source": [
    "Посчитаем погрешности величин по формулам:\n",
    "$$\\sigma a = \\sqrt{{1 \\over N(N - 1)}\\sum_1^N (a_n - Acp)^2}$$\n"
   ]
  },
  {
   "cell_type": "code",
   "execution_count": 5,
   "id": "64a0c522",
   "metadata": {},
   "outputs": [
    {
     "name": "stdout",
     "output_type": "stream",
     "text": [
      "[0.004583333333333342, 0.01125000000000002, 0.004583333333333342, 0.010000000000000018]\n"
     ]
    }
   ],
   "source": [
    "import math\n",
    "N = 3 \n",
    "sigmaa1 = (((a[0]-a1)**2 + (a[1]-a1)**2 + (a[2]-a1)**2) / N*(N-1))**1/2 \n",
    "sigmaa2 = (((a[3]-a2)**2 + (a[4]-a2)**2 + (a[5]-a2)**2) / N*(N-1))**1/2 \n",
    "sigmaa3 = (((a[6]-a3)**2 + (a[7]-a3)**2 + (a[8]-a3)**2) / N*(N-1))**1/2 \n",
    "sigmaa4 = (((a[9]-a4)**2 + (a[10]-a4)**2 + (a[11]-a4)**2) / N*(N-1))**1/2 \n",
    "sig = [1000*sigmaa1, 1000*sigmaa2, 1000*sigmaa3, 1000*sigmaa4]\n",
    "Su1 = sigmaa1/b\n",
    "Su2 = sigmaa2/b\n",
    "Su3 = sigmaa3/b\n",
    "Su4 = sigmaa4/b\n",
    "Su = [1000*Su1, 1000*Su2, 1000*Su3, 1000*Su4]\n",
    "print(Su)\n",
    "f1 = u1 * md * g / 1000\n",
    "f2 = u2 * md * g / 1000\n",
    "f3 = u3 * mt * g / 1000\n",
    "f4 = u4 * mt * g / 1000\n",
    "F = [f1, f2, f3, f4]\n"
   ]
  },
  {
   "cell_type": "markdown",
   "id": "2e7a8f7d",
   "metadata": {},
   "source": [
    "-----------------------------------------------------------------------------\n",
    "Найдены силы трения, действующие на бруски по формуле:\n",
    "$$F = \\mu m g $$"
   ]
  },
  {
   "cell_type": "markdown",
   "id": "292fa8c7",
   "metadata": {},
   "source": [
    "Построим график зависимости \n",
    "$$\\mu(Acp)$$"
   ]
  },
  {
   "cell_type": "code",
   "execution_count": 6,
   "id": "3e07b4c4",
   "metadata": {},
   "outputs": [
    {
     "name": "stdout",
     "output_type": "stream",
     "text": [
      "        A       u       sig        Su         F\n",
      "0  0.0535  0.2675  0.000917  0.004583  0.084483\n",
      "1  0.0545  0.2725  0.002250  0.011250  0.086062\n",
      "2  0.0815  0.4075  0.000917  0.004583  0.079467\n",
      "3  0.0820  0.4100  0.002000  0.010000  0.079954\n"
     ]
    },
    {
     "data": {
      "image/png": "[encoded data removed]",
      "text/plain": [
       "<Figure size 432x288 with 1 Axes>"
      ]
     },
     "metadata": {
      "needs_background": "light"
     },
     "output_type": "display_data"
    }
   ],
   "source": [
    "import pandas as pd\n",
    "data = pd.DataFrame({'A' : A, 'u' : u, 'sig' : sig, 'Su' : Su, 'F' : F})\n",
    "print(data)\n",
    "\n",
    "import matplotlib.pyplot as plt\n",
    "plt.errorbar(A, u, xerr=sig, yerr=Su, color = 'black')\n",
    "plt.xlabel(\"Аср, м\", fontsize=15)\n",
    "plt.ylabel(\"u(Aср)\", fontsize=15)\n",
    "plt.show()"
   ]
  },
  {
   "cell_type": "markdown",
   "id": "18cb9538",
   "metadata": {},
   "source": [
    "## Основные итоги работы\n",
    "В ходе работы были найдены коэфициенты силы сухого трения между поверхностью линейки и поверхностями брусков, сделанных из различных материалов, определяя угол z , при котором\n",
    "происходит переход от движения бруска по бумаге без проскальзывания вдоль линейки рейсшины к движению с проскальзыванием вдоль линейки.\n",
    "Построен график зависимости $\\mu$(Aср), он является линейным, тем самым подтвердается выбранная нами модель $\\mu$=tgz."
   ]
  },
  {
   "cell_type": "code",
   "execution_count": null,
   "id": "0a7c85f5",
   "metadata": {},
   "outputs": [],
   "source": []
  },
  {
   "cell_type": "code",
   "execution_count": null,
   "id": "30155717",
   "metadata": {},
   "outputs": [],
   "source": []
  }
 ],
 "metadata": {
  "kernelspec": {
   "display_name": "Python 3",
   "language": "python",
   "name": "python3"
  },
  "language_info": {
   "codemirror_mode": {
    "name": "ipython",
    "version": 3
   },
   "file_extension": ".py",
   "mimetype": "text/x-python",
   "name": "python",
   "nbconvert_exporter": "python",
   "pygments_lexer": "ipython3",
   "version": "3.8.8"
  }
 },
 "nbformat": 4,
 "nbformat_minor": 5
}
