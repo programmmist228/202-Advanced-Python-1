{
 "cells": [
  {
   "cell_type": "code",
   "execution_count": 48,
   "id": "690234ca",
   "metadata": {},
   "outputs": [
    {
     "name": "stdout",
     "output_type": "stream",
     "text": [
      "Welcome to 107 prak!\n"
     ]
    },
    {
     "data": {
      "image/png": "[encoded data removed]",
      "text/plain": [
       "<Figure size 432x288 with 1 Axes>"
      ]
     },
     "metadata": {
      "needs_background": "light"
     },
     "output_type": "display_data"
    },
    {
     "name": "stdout",
     "output_type": "stream",
     "text": [
      "---------------\n"
     ]
    }
   ],
   "source": [
    "import matplotlib.pyplot as plt\n",
    "import numpy as np\n",
    "import math\n",
    "\n",
    "print(\"Welcome to 107 prak!\")\n",
    "\n",
    "def average(arr):\n",
    "    return(sum(arr)/len(arr))\n",
    "\n",
    "\n",
    "def read(filename):\n",
    "    f = open(filename, \"r\")\n",
    "    res = np.empty(0)\n",
    "    for line in f:\n",
    "        res = np.append(res, float(line))\n",
    "    f.close()\n",
    "    return res\n",
    "\n",
    "b = read(\"ex1_b.txt\")\n",
    "a = read(\"ex1_a.txt\")\n",
    "u = []\n",
    "a1 = average(a[0:2])\n",
    "a2 = average(a[3:5])\n",
    "a3 = average(a[6:8])\n",
    "a4 = average(a[9:11])\n",
    "A = [a1, a2, a3, a4]\n",
    "u1 = a1/b[0]\n",
    "u2 = a2/b[1]\n",
    "u3 = a3/b[2]\n",
    "u4 = a4/b[3]\n",
    "u = [u1, u2, u3, u4]\n",
    "plt.plot(u, A)\n",
    "plt.xlabel(\"Аср, м\", fontsize=20)\n",
    "plt.ylabel(\"u(Aср)\", fontsize=20)\n",
    "plt.show()\n",
    "print(\"---------------\")\n",
    "\n",
    "\n"
   ]
  },
  {
   "cell_type": "markdown",
   "id": "f3f0b101",
   "metadata": {},
   "source": [
    "# ОПРЕДЕЛЕНИЕ КОЭФФИЦИЕНТА СИЛЫ СУХОГО ТРЕНИЯ\n",
    "\n",
    "## Обработка результатов\n",
    "Посчитаем среднее значение Aср параметра a для каждого из случаев, а так же построим зависимость коэфициента трения u(Aср)\n",
    "\n",
    "u = Aср/b\n",
    "\n",
    "a - катет1\n",
    "\n",
    "b - катет2\n",
    "\n",
    "tgz = u\n",
    "\n",
    "брусок | Aср | u\n",
    "--- | --- | ---\n",
    "брусок1 дюраль с грузом | 0.0535 | 0.267\n",
    "брусок1 дюраль без груза | 0.0545 | 0.272\n",
    "брусок2 текстолит с грузом | 0.0815 | 0.407\n",
    "брусок2 текстолит без груза | 0.0820 | 0.410\n",
    "\n",
    "## Основные итоги работы\n",
    "В ходе работы были найдены коэфициенты силы сухого трения между поверхностью линейки и поверхностями брусков, сделанных из различных материалов, определяя угол z , при котором\n",
    "происходит переход от движения бруска по бумаге без проскальзывания вдоль линейки рейсшины к движению с проскальзыванием вдоль линейки.\n",
    "Построен график зависимости u(Aср), он является линейным, тем самым подтвердается выбранная нами модель u=tgz."
   ]
  },
  {
   "cell_type": "code",
   "execution_count": null,
   "id": "d485cb33",
   "metadata": {},
   "outputs": [],
   "source": []
  }
 ],
 "metadata": {
  "kernelspec": {
   "display_name": "Python 3",
   "language": "python",
   "name": "python3"
  },
  "language_info": {
   "codemirror_mode": {
    "name": "ipython",
    "version": 3
   },
   "file_extension": ".py",
   "mimetype": "text/x-python",
   "name": "python",
   "nbconvert_exporter": "python",
   "pygments_lexer": "ipython3",
   "version": "3.8.8"
  }
 },
 "nbformat": 4,
 "nbformat_minor": 5
}
