{
 "cells": [
  {
   "cell_type": "markdown",
   "id": "f3d110a1",
   "metadata": {},
   "source": [
    "# Лабораторная работа №306\n",
    "## Температурная зависимость намагниченности"
   ]
  },
  {
   "cell_type": "code",
   "execution_count": 1,
   "id": "e6bb127e",
   "metadata": {},
   "outputs": [],
   "source": [
    "d = 20.2 # мм \n",
    "D = 29.8 # мм\n",
    "h = 5.2 # мм\n",
    "R1 = 62 # Ом\n",
    "R2 = 25 # кОм\n",
    "N1 = 300\n",
    "N2 = 400\n",
    "C = 2 # мкФ\n",
    "Cx = 0.17 # В/дел\n",
    "Cy = 0.02 # В/дел\n",
    "S = h*(D-d)"
   ]
  },
  {
   "cell_type": "markdown",
   "id": "b40d8188",
   "metadata": {},
   "source": [
    "### Упражнение 1. Получение петли гистерзиса и определение магнитных параметров образца при комнатной температуре\n",
    "\n",
    "![glisteresis](C:\\Users\\дмитрий\\Desktop\\306\\glisteresis.png)\n",
    "\n",
    "Здесь:  \n",
    "Hc = ОА - коэрцитивная сила  \n",
    "Hs = OB - насыщающее поле  \n",
    "Br = OC - остаточная индукция  \n",
    "Bs = OD - индукция насыщения  \n",
    "\n",
    "Рассчитаем значения коэрцитивной силы $H_c$, насыщающего поля $H_s$, остаточной индукции $B_r$, индукции насыщения образца $B_s$ по формулам:  \n",
    "$$H=\\frac{n_1C_xx}{R_1}$$  \n",
    "$$B=\\frac{R_2CC_yy}{N_2S_{obr}}$$  \n",
    "\n",
    "Измеренные вкличины:\n"
   ]
  },
  {
   "cell_type": "code",
   "execution_count": 2,
   "id": "69ab84c0",
   "metadata": {},
   "outputs": [
    {
     "name": "stdout",
     "output_type": "stream",
     "text": [
      "          Hc         Hs        Br        Bs\n",
      "0  10.693548  15.629032  0.801282  1.001603 \n",
      "      ± SHc      ± SHs      ± SBr     ± SBs\n",
      "0  0.41129    0.41129    0.02504   0.02504\n"
     ]
    }
   ],
   "source": [
    "import pandas as pd\n",
    "OA = 13 #дел\n",
    "OB = 19 #дел\n",
    "OC = 16 #дел\n",
    "OD = 20 #дел\n",
    "Sx = 0.05 #дел\n",
    "Sy = 0.5 #дел\n",
    "Hc = N1 * Cx * OA / R1 # А/м\n",
    "HC = [Hc]\n",
    "Hs = N1 * Cx * OB / R1 # А/м\n",
    "HS = [Hs]\n",
    "Br = 1000 * R2 * C * Cy * OC / (N2 * S) # Тл\n",
    "BR = [Br]\n",
    "Bs = 1000 * R2 * C * Cy * OD / (N2 * S) # Тл\n",
    "BS = [Bs]\n",
    "#Погрешности\n",
    "SHc = 10 *  N1 * Cx * Sx / R1\n",
    "SHs = SHc \n",
    "SBr = 1000 * R2 * C * Cy * Sy / (N2 * S)\n",
    "SBs = SBr\n",
    "SHC = [SHc]\n",
    "SHS = [SHs]\n",
    "SBR = [SBr]\n",
    "SBS = [SBs]\n",
    "data = pd.DataFrame({'Hc' : HC, 'Hs' : HS, 'Br' : BR, 'Bs' : BS}) \n",
    "data1 = pd.DataFrame({'\\u00B1 SHc' : SHC,'    ' '\\u00B1 SHs' : SHS, '    ' '\\u00B1 SBr' : SBR, '   ''\\u00B1 SBs' : SBS})\n",
    "print(data, '\\n', data1)\n"
   ]
  },
  {
   "cell_type": "markdown",
   "id": "93b9041f",
   "metadata": {},
   "source": [
    "## Упражнение 2. Измерение зависимости индукции насыщения ферромагнитного образца от температуры и определение точки Кюри\n",
    "\n",
    "Построить график зависимости $B_s$ от температуры $T$. Определить точку Кюри $T_c$.    \n",
    "\n",
    "Запишем результаты измерения для температуры $T$ и $OD$."
   ]
  },
  {
   "cell_type": "code",
   "execution_count": 3,
   "id": "29a93e75",
   "metadata": {},
   "outputs": [
    {
     "name": "stdout",
     "output_type": "stream",
     "text": [
      "      T  sig_T        Bs    sig_Bs\n",
      "0   293    0.5  1.001603  0.000025\n",
      "1   303    0.5  0.901442  0.000025\n",
      "2   313    0.5  0.876402  0.000025\n",
      "3   321    0.5  0.826322  0.000025\n",
      "4   329    0.5  0.801282  0.000025\n",
      "5   343    0.5  0.751202  0.000025\n",
      "6   353    0.5  0.701122  0.000025\n",
      "7   363    0.5  0.651042  0.000025\n",
      "8   373    0.5  0.575921  0.000025\n",
      "9   378    0.5  0.525841  0.000025\n",
      "10  383    0.5  0.475761  0.000025\n",
      "11  388    0.5  0.375601  0.000025\n",
      "12  393    0.5  0.275441  0.000025\n",
      "13  398    0.5  0.175280  0.000025\n",
      "14  403    0.5  0.075120  0.000025\n",
      "15  405    0.5  0.025040  0.000025\n",
      "16  408    0.5  0.010016  0.000025\n",
      "17  411    0.5  0.005008  0.000025\n",
      "18  413    0.5  0.000000  0.000025\n"
     ]
    }
   ],
   "source": [
    "import numpy as np\n",
    "T = np.array([20, 30, 40, 48, 56, 70, 80, 90, 100, 105, 110, 115, 120, 125, 130, 132, 135, 138, 140]) \n",
    "sig_T = 0.5 #К\n",
    "T += 273 # К\n",
    "OD_arr = np.array([20, 18, 17.5, 16.5, 16, 15, 14, 13, 11.5, 10.5, 9.5, 7.5, 5.5, 3.5, 1.5, 0.5, 0.2, 0.1, 0])\n",
    "OD_sig = 1 # дел\n",
    "Bs_arr = 1000 * R2 * C * Cy * OD_arr / (N2 * S) # Тл\n",
    "Bs_sig = R2 * C * Cy * Sy / (N2 * S)\n",
    "data = pd.DataFrame({'T' : T, 'sig_T' : sig_T, 'Bs' : Bs_arr, 'sig_Bs' : Bs_sig})\n",
    "print(data)"
   ]
  },
  {
   "cell_type": "markdown",
   "id": "fe3e66e3",
   "metadata": {},
   "source": [
    "Построим график зависимости $B_s = f(T)$"
   ]
  },
  {
   "cell_type": "code",
   "execution_count": 4,
   "id": "95809b7c",
   "metadata": {},
   "outputs": [
    {
     "data": {
      "image/png": "[encoded data removed]",
      "text/plain": [
       "<Figure size 720x720 with 1 Axes>"
      ]
     },
     "metadata": {
      "needs_background": "light"
     },
     "output_type": "display_data"
    }
   ],
   "source": [
    "import matplotlib.pyplot as plt\n",
    "plt.figure(figsize=(10, 10))\n",
    "plt.errorbar(T, Bs_arr, xerr=sig_T, yerr=Bs_sig, color='black', fmt='-o')\n",
    "plt.ylabel('Bs, Тл', color='black')\n",
    "plt.xlabel('T, К', color='black')\n",
    "plt.show()"
   ]
  },
  {
   "cell_type": "markdown",
   "id": "06b61ae3",
   "metadata": {},
   "source": [
    "### МНК:"
   ]
  },
  {
   "cell_type": "code",
   "execution_count": 5,
   "id": "5b3ccade",
   "metadata": {},
   "outputs": [
    {
     "name": "stdout",
     "output_type": "stream",
     "text": [
      "a = -0.02118774654832347 Тл/К, b = 8.609287680802103 Тл/К\n"
     ]
    }
   ],
   "source": [
    "from numpy import linalg as LA\n",
    "Bs_mnk = Bs_arr[13:16]\n",
    "T_mnk = T[13:16]\n",
    "A = np.vstack([T_mnk, np.ones(len(T_mnk))]).T\n",
    "a, b = np.linalg.lstsq(A, Bs_mnk, rcond=None)[0]\n",
    "print(f'a = {a} Тл/К, b = {b} Тл/К')"
   ]
  },
  {
   "cell_type": "markdown",
   "id": "80f148f7",
   "metadata": {},
   "source": [
    "Формула температуры Кюри:\n",
    "$$T_c=\\frac{b}{a}$$"
   ]
  },
  {
   "cell_type": "code",
   "execution_count": 15,
   "id": "c50c80f9",
   "metadata": {},
   "outputs": [
    {
     "name": "stdout",
     "output_type": "stream",
     "text": [
      "Tc = 133.33333333333331 K\n"
     ]
    }
   ],
   "source": [
    "Tc = np.abs(b / a) - 273\n",
    "print('Tc =',Tc,'градусов C')"
   ]
  },
  {
   "cell_type": "markdown",
   "id": "e2fe13d2",
   "metadata": {},
   "source": [
    "# Основные итоги работы\n",
    "Для комнатной температуры были получены значения коэрцитивной силы $H_c$, насыщающего поля $H_s$, остаточной индукции $B_r$ и индукции насыщения $B_s$:  \n",
    "$$H_c = 10.6 +- 0.41 (В/см)$$\n",
    "$$H_s = 15.5 +- 0.41 (В/см)$$ \n",
    "$$B_r = 0.4 +- 0.025 (В/см)$$\n",
    "$$B_s = 0.5 +- 0.025 (В/см)$$  \n",
    "При температуре Кюри феромагнетик становится парамагнетиком $T_c = (133,3 +- 0,5)(C)$"
   ]
  },
  {
   "cell_type": "code",
   "execution_count": null,
   "id": "5622d65f",
   "metadata": {},
   "outputs": [],
   "source": []
  }
 ],
 "metadata": {
  "kernelspec": {
   "display_name": "Python 3",
   "language": "python",
   "name": "python3"
  },
  "language_info": {
   "codemirror_mode": {
    "name": "ipython",
    "version": 3
   },
   "file_extension": ".py",
   "mimetype": "text/x-python",
   "name": "python",
   "nbconvert_exporter": "python",
   "pygments_lexer": "ipython3",
   "version": "3.8.8"
  }
 },
 "nbformat": 4,
 "nbformat_minor": 5
}
